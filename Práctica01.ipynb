{
  "nbformat": 4,
  "nbformat_minor": 0,
  "metadata": {
    "colab": {
      "name": "Práctica1.ipynb",
      "provenance": [],
      "collapsed_sections": [],
      "include_colab_link": true
    },
    "kernelspec": {
      "name": "python3",
      "display_name": "Python 3"
    },
    "language_info": {
      "name": "python"
    }
  },
  "cells": [
    {
      "cell_type": "markdown",
      "metadata": {
        "id": "view-in-github",
        "colab_type": "text"
      },
      "source": [
        "<a href=\"https://colab.research.google.com/github/MatApuntes/Curso_python/blob/main/Pr%C3%A1ctica01.ipynb\" target=\"_parent\"><img src=\"https://colab.research.google.com/assets/colab-badge.svg\" alt=\"Open In Colab\"/></a>"
      ]
    },
    {
      "cell_type": "markdown",
      "metadata": {
        "id": "IUyOeBw6n1Dy"
      },
      "source": [
        "# Curso de introducción a la programación en python\n",
        "\n",
        "**Autor: Luis Fernando Apáez Álvarez**\n",
        "\n",
        "## Práctica 1: Ecuaciones de primer grado\n",
        "---\n",
        "Bien, en esta práctica utilizaremos todo lo que hemos aprendido de las clases anteriores.  Crearemos una _calculadora_ que obtenga el valor de la solución de una ecuación de primer grado, la cual será ingresada por el usuario.\n",
        "\n",
        "### Teoría\n",
        "\n",
        "La ecuación general de primer grado es de la forma\n",
        "\n",
        "$$\n",
        "ax+b=0, \\ \\ \\textrm{con}\\ \\ a,b \\ \\ \\textrm{números reales y}\\ \\ a\\neq0\n",
        "$$\n",
        "\n",
        "y si deseamos conocer el valor de $x$ basta con realizar un despeje\n",
        "\n",
        "\\begin{align*}\n",
        "a\\cdot x=-b\\\\\n",
        "x=\\frac{-b}{a}\n",
        "\\end{align*}\n",
        "\n",
        "---\n",
        "\n",
        "Implementemos lo anterior a código en Python, para ello\n",
        "\n",
        "1. Declaramos las variables $a$ y $b$ las cuales serán ingresadas por el usuario.\n",
        "2. Recuerda que debemos convertir la información que ingrese el usuario a tipo numérico, en este caso a flotante. \n",
        "3. Asignamos a la variable $x$ el valor de la operación $\\frac{-b}{a}$.\n",
        "4. Imprimimos $x$ para saber el valor de la solución de la ecuación.\n",
        "\n",
        "Nosotros ingresaremos los valores de $a=2$ y $b=5$, esdecir, procederemos a resolver la ecuación $2x+5=0$. En tu caso puedes jugar con los valores de $a$ y $b$ cuando ejecutes el código"
      ]
    },
    {
      "cell_type": "code",
      "metadata": {
        "colab": {
          "base_uri": "https://localhost:8080/"
        },
        "id": "0Zy6inpxrZz3",
        "outputId": "567357d7-5536-4246-f956-d4c72b70cf39"
      },
      "source": [
        "# Mensaje inicial\n",
        "print(\"Hola, está es una calculadora para resolver ecuaciones de primer grado.\")\n",
        "print(\"Por favor despeja tu ecuación e igualala a cero.\")\n",
        "print(\"Debe estar escrita como: ax+b=0.\")\n",
        "\n",
        "# 1.\n",
        "a = input(\"¿Cuál es el valor de a?\")\n",
        "b = input(\"¿Cuál es el valor de b?\")\n",
        "\n",
        "# 3.\n",
        "x = -float(b) / float(a)\n",
        "\n",
        "# 4. \n",
        "print(\"-\"*10)\n",
        "print(\"La solución de la ecuación es x=\", x)"
      ],
      "execution_count": null,
      "outputs": [
        {
          "output_type": "stream",
          "text": [
            "Hola, está es una calculadora para resolver ecuaciones de primer grado.\n",
            "Por favor despeja tu ecuación e igualala a cero.\n",
            "Debe estar escrita como: ax+b=0.\n",
            "¿Cuál es el valor de a?2\n",
            "¿Cuál es el valor de b?5\n",
            "----------\n",
            "La solución de la ecuación es x= -2.5\n"
          ],
          "name": "stdout"
        }
      ]
    },
    {
      "cell_type": "markdown",
      "metadata": {
        "id": "zZ8gOcFkuFs6"
      },
      "source": [
        "Podemos modificar un poco el código anterior haciendo la conversión a tipo de dato flotante directo en la asignación de $a$ y $b$. Es decir"
      ]
    },
    {
      "cell_type": "code",
      "metadata": {
        "colab": {
          "base_uri": "https://localhost:8080/"
        },
        "id": "nIkn95-SuQ5v",
        "outputId": "c8c1dcb4-d57f-43e1-bee4-4a779360cf1c"
      },
      "source": [
        "# 1.\n",
        "a = float(input(\"¿Cuál es el valor de a?\"))\n",
        "b = float(input(\"¿Cuál es el valor de b?\"))\n",
        "\n",
        "# 3.\n",
        "x = -b / a\n",
        "\n",
        "# 4. \n",
        "print(\"-\"*10)\n",
        "print(\"La solución de la ecuación es x=\", x)"
      ],
      "execution_count": null,
      "outputs": [
        {
          "output_type": "stream",
          "text": [
            "¿Cuál es el valor de a?2\n",
            "¿Cuál es el valor de b?5\n",
            "----------\n",
            "La solución de la ecuación es x= -2.5\n"
          ],
          "name": "stdout"
        }
      ]
    },
    {
      "cell_type": "markdown",
      "metadata": {
        "id": "k_O_hNsSs4SJ"
      },
      "source": [
        "Simplemente para que observes que podemos hacer muchas más cosas en python, graficaremos la función lineal asociada a la ecuación. Sin embargo, los temas referentes los códigos que emplearemos a continuación se verán más detalladamente en clases posteriores.\n",
        "\n",
        "Recordemos que, de la ecuación de primer grado $ax+b=0$ podemos considerar una función lineal (una recta) $f(x)=ax+b$. \n",
        "\n",
        "Para ello"
      ]
    },
    {
      "cell_type": "code",
      "metadata": {
        "colab": {
          "base_uri": "https://localhost:8080/",
          "height": 314
        },
        "id": "5SXivAvNtajy",
        "outputId": "72ceb21d-0b01-4aa3-d3cd-1efaa8e0c88c"
      },
      "source": [
        "# importaciones necesarias:\n",
        "# nos permite considerar a x como un símbolo matemático\n",
        "from sympy import symbols\n",
        "\n",
        "#importación para realizar gráficas\n",
        "from sympy.plotting import plot\n",
        "\n",
        "# declaramos que la variable x se le asignará el símbolo matmático \"x\"\n",
        "x = symbols(\"x\")\n",
        "\n",
        "# graficamos\n",
        "plot(a * x + b, (x, -5, 5), title=\"f(x)=2x+5\")"
      ],
      "execution_count": null,
      "outputs": [
        {
          "output_type": "display_data",
          "data": {
            "image/png": "[encoded data removed]",
            "text/plain": [
              "<Figure size 432x288 with 1 Axes>"
            ]
          },
          "metadata": {
            "tags": [],
            "needs_background": "light"
          }
        },
        {
          "output_type": "execute_result",
          "data": {
            "text/plain": [
              "<sympy.plotting.plot.Plot at 0x7fe3ba892b10>"
            ]
          },
          "metadata": {
            "tags": []
          },
          "execution_count": 22
        }
      ]
    },
    {
      "cell_type": "markdown",
      "metadata": {
        "id": "kDJqcbKRxIE8"
      },
      "source": [
        "Básicamente estamos utilizando la variable en python ``x`` como una variable en matemáticas, y de la cual estamos acostumbrados a trabajar.\n",
        "\n",
        "Con esta asiganción podemos realizar operaciones como estamos acostumbrados. Por ejemplo, usando álgebra sabemos que $x+x=2\\cdot x$ y que $x\\cdot x=x^{2}$. Así"
      ]
    },
    {
      "cell_type": "code",
      "metadata": {
        "colab": {
          "base_uri": "https://localhost:8080/",
          "height": 38
        },
        "id": "9uPbuhKsxd7f",
        "outputId": "90fb077e-b47e-4aa5-8975-2e5df8548884"
      },
      "source": [
        "x + x"
      ],
      "execution_count": null,
      "outputs": [
        {
          "output_type": "execute_result",
          "data": {
            "text/latex": "$\\displaystyle 2 x$",
            "text/plain": [
              "2*x"
            ]
          },
          "metadata": {
            "tags": []
          },
          "execution_count": 26
        }
      ]
    },
    {
      "cell_type": "code",
      "metadata": {
        "colab": {
          "base_uri": "https://localhost:8080/",
          "height": 38
        },
        "id": "gJe5NmTDx3mu",
        "outputId": "83ddeb60-9f58-4fe7-efd5-590ceb2cfd8c"
      },
      "source": [
        "x * x"
      ],
      "execution_count": null,
      "outputs": [
        {
          "output_type": "execute_result",
          "data": {
            "text/latex": "$\\displaystyle x^{2}$",
            "text/plain": [
              "x**2"
            ]
          },
          "metadata": {
            "tags": []
          },
          "execution_count": 27
        }
      ]
    },
    {
      "cell_type": "markdown",
      "metadata": {
        "id": "u0TxA0yWxkNE"
      },
      "source": [
        "Como mencionamos, entraremos más a detalle sobre esto en clases posteriores, por ende, aquí acaba esta práctica."
      ]
    }
  ]
}